{
 "cells": [
  {
   "cell_type": "code",
   "execution_count": 1,
   "metadata": {},
   "outputs": [],
   "source": [
    "#load necessary data\n",
    "import sys\n",
    "import scipy.io\n",
    "import pandas as pd\n",
    "data = scipy.io.loadmat('option_data.mat')\n",
    "price = pd.read_csv('50ETF(20150209-20180704).CSV')\n",
    "columns = ['Date','Code','Name','Due','Exercise Price','Opening','Clossing','Average','Settlement','Volumn','Turn Volumn','Open Interest','Change of OI','delta','gamma','vega','theta','rho','left','VSI','b-closing','b-VIS','Contract','Serial']\n",
    "data_call_save_all = pd.DataFrame(data = data['data_call_save_all'],columns = columns)\n",
    "data_put_save_all = pd.DataFrame(data = data['data_put_save_all'], columns = columns)"
   ]
  },
  {
   "cell_type": "code",
   "execution_count": 2,
   "metadata": {},
   "outputs": [],
   "source": [
    "dic = {'1':'Jan','2':'Feb','3':'Mar','4':'Apr','5':'May','6':'Jun','7':'Jul','8':'Aug','9':'Sep','10':'Oct','11':'Nov','12':'Dec'}"
   ]
  },
  {
   "cell_type": "code",
   "execution_count": 3,
   "metadata": {},
   "outputs": [],
   "source": [
    "def convect_price_data():\n",
    "    for i in range(len(price['date'])):\n",
    "        year,mon,day = price['date'][i].split('/',3)\n",
    "        if len(day) == 1:\n",
    "            day = '0' + day\n",
    "        mon = dic[mon]\n",
    "        new_date = day+'-'+mon+'-'+year\n",
    "        price.loc[i,'date'] = new_date"
   ]
  },
  {
   "cell_type": "code",
   "execution_count": 4,
   "metadata": {},
   "outputs": [],
   "source": [
    "#convert the price date to be the same as the data\n",
    "convect_price_data()"
   ]
  },
  {
   "cell_type": "code",
   "execution_count": 5,
   "metadata": {},
   "outputs": [],
   "source": [
    "price = price.set_index('date')"
   ]
  },
  {
   "cell_type": "code",
   "execution_count": 6,
   "metadata": {
    "scrolled": true
   },
   "outputs": [],
   "source": [
    "#cal the different between the exercise price and the real price\n",
    "for i in range(len(data_call_save_all['Date'])):\n",
    "    temp = data_call_save_all['Exercise Price'][i] - price.loc[data_call_save_all['Date'][i]]\n",
    "    data_call_save_all.loc[i,'Diff'] = temp['price'][0]"
   ]
  },
  {
   "cell_type": "code",
   "execution_count": 7,
   "metadata": {},
   "outputs": [],
   "source": [
    "price = price.reset_index()"
   ]
  },
  {
   "cell_type": "code",
   "execution_count": 8,
   "metadata": {},
   "outputs": [],
   "source": [
    "for i in range(len(price['date'])):\n",
    "    temp = data_call_save_all.loc[data_call_save_all['Date'] == price['date'][i]]\n",
    "    temp = temp.loc[temp['left'] == temp['left'].values.min()[0][0]]\n",
    "    temp = temp.reset_index(drop = True)\n",
    "    id = temp['Diff'].abs().values.argmin()\n",
    "    min_diff = temp['Diff'][id]\n",
    "    temp = temp.loc[temp['Diff'] > min_diff]\n",
    "    if len(temp) == 0:\n",
    "        first_VSI = float('nan')\n",
    "        second_VSI = float('nan')\n",
    "    elif len(temp) == 1:\n",
    "        temp = temp.reset_index(drop = True)\n",
    "        first_VSI = temp['VSI'][0][0][0]\n",
    "        second_VSI = float('nan')\n",
    "    else:\n",
    "        temp = temp.sort_values(by = 'Diff')\n",
    "        temp = temp.reset_index(drop = True)\n",
    "        first_VSI = temp['VSI'][0][0][0]\n",
    "        second_VSI = temp['VSI'][1][0][0]\n",
    "    if first_VSI == 'nan':\n",
    "        print('fff')\n",
    "    price.loc[i,'frist_VSI'] = first_VSI\n",
    "    price.loc[i,'second_VIS'] = second_VSI"
   ]
  },
  {
   "cell_type": "code",
   "execution_count": 9,
   "metadata": {
    "scrolled": true
   },
   "outputs": [],
   "source": [
    "import numpy as np\n",
    "price = price.dropna()\n",
    "price.reset_index()\n",
    "MA = np.zeros([2, len(price)-39])\n",
    "for i in range(39, len(price)):\n",
    "    MA[0][i-39] = sum(price['frist_VSI'][i-39:i])/40\n",
    "    MA[1][i-39] = sum(price['second_VIS'][i-39:i])/40\n",
    "#MA.shape\n",
    "#len(price) \n",
    "MS = np.zeros([2, len(price)-78])\n",
    "for i in range(78, len(price)):\n",
    "    MS[0][i-78] = np.sqrt(sum(np.power(price['frist_VSI'].values[i-39:i] - MA[0][i-78:i-39], 2)) /40)\n",
    "    MS[1][i-78] = np.sqrt(sum(np.power(price['second_VIS'].values[i-39:i] - MA[1][i-78:i-39], 2)) /40)"
   ]
  },
  {
   "cell_type": "code",
   "execution_count": 10,
   "metadata": {},
   "outputs": [],
   "source": [
    "Upp_Bnd = MA[:,39:MA.shape[1]] + MS[:,0:MS.shape[1]]\n",
    "Low_Bnd = MA[:,39:MA.shape[1]] - MS[:,0:MS.shape[1]]"
   ]
  },
  {
   "cell_type": "code",
   "execution_count": 12,
   "metadata": {},
   "outputs": [
    {
     "data": {
      "image/png": "[encoded data removed]",
      "text/plain": [
       "<Figure size 432x288 with 1 Axes>"
      ]
     },
     "metadata": {},
     "output_type": "display_data"
    }
   ],
   "source": [
    "import matplotlib.pyplot as plt\n",
    "plt.plot(Upp_Bnd[0])\n",
    "plt.plot(Low_Bnd[0])\n",
    "plt.plot(price['frist_VSI'].values[78:(MA.shape[1]+78)])\n",
    "plt.show()"
   ]
  },
  {
   "cell_type": "code",
   "execution_count": null,
   "metadata": {},
   "outputs": [],
   "source": []
  }
 ],
 "metadata": {
  "kernelspec": {
   "display_name": "Python 2",
   "language": "python",
   "name": "python2"
  },
  "language_info": {
   "codemirror_mode": {
    "name": "ipython",
    "version": 2
   },
   "file_extension": ".py",
   "mimetype": "text/x-python",
   "name": "python",
   "nbconvert_exporter": "python",
   "pygments_lexer": "ipython2",
   "version": "2.7.15"
  }
 },
 "nbformat": 4,
 "nbformat_minor": 2
}
