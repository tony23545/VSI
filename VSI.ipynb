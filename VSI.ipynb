{
 "cells": [
  {
   "cell_type": "code",
   "execution_count": 13,
   "metadata": {},
   "outputs": [],
   "source": [
    "#load necessary data\n",
    "import sys\n",
    "import scipy.io\n",
    "import pandas as pd\n",
    "data = scipy.io.loadmat('option_data.mat')\n",
    "price = pd.read_csv('50ETF(20150209-20180704).CSV')\n",
    "columns = ['Date','Code','Name','Due','Exercise Price','Opening','Clossing','Average','Settlement','Volumn','Turn Volumn','Open Interest','Change of OI','delta','gamma','vega','theta','rho','left','VSI','b-closing','b-VSI','Contract','Serial']\n",
    "data_call_save_all = pd.DataFrame(data = data['data_call_save_all'],columns = columns)\n",
    "data_put_save_all = pd.DataFrame(data = data['data_put_save_all'], columns = columns)"
   ]
  },
  {
   "cell_type": "code",
   "execution_count": 14,
   "metadata": {},
   "outputs": [],
   "source": [
    "dic = {'1':'Jan','2':'Feb','3':'Mar','4':'Apr','5':'May','6':'Jun','7':'Jul','8':'Aug','9':'Sep','10':'Oct','11':'Nov','12':'Dec'}"
   ]
  },
  {
   "cell_type": "code",
   "execution_count": 15,
   "metadata": {},
   "outputs": [],
   "source": [
    "def convect_price_data():\n",
    "    for i in range(len(price['date'])):\n",
    "        year,mon,day = price['date'][i].split('/',3)\n",
    "        if len(day) == 1:\n",
    "            day = '0' + day\n",
    "        mon = dic[mon]\n",
    "        new_date = day+'-'+mon+'-'+year\n",
    "        price.loc[i,'date'] = new_date"
   ]
  },
  {
   "cell_type": "code",
   "execution_count": 16,
   "metadata": {},
   "outputs": [],
   "source": [
    "#convert the price date to be the same as the data\n",
    "convect_price_data()"
   ]
  },
  {
   "cell_type": "code",
   "execution_count": 17,
   "metadata": {},
   "outputs": [],
   "source": [
    "price = price.set_index('date')"
   ]
  },
  {
   "cell_type": "code",
   "execution_count": 18,
   "metadata": {
    "scrolled": true
   },
   "outputs": [],
   "source": [
    "#cal the different between the exercise price and the real price\n",
    "for i in range(len(data_call_save_all['Date'])):\n",
    "    temp = data_call_save_all['Exercise Price'][i] - price.loc[data_call_save_all['Date'][i]]\n",
    "    data_call_save_all.loc[i,'Diff'] = temp['price'][0]"
   ]
  },
  {
   "cell_type": "code",
   "execution_count": 19,
   "metadata": {},
   "outputs": [],
   "source": [
    "price = price.reset_index()"
   ]
  },
  {
   "cell_type": "code",
   "execution_count": 20,
   "metadata": {},
   "outputs": [
    {
     "name": "stdout",
     "output_type": "stream",
     "text": [
      "21-Nov-2016\n",
      "22-Nov-2016\n",
      "23-Nov-2016\n",
      "24-Nov-2016\n",
      "25-Nov-2016\n",
      "28-Nov-2016\n",
      "12-May-2017\n",
      "15-May-2017\n",
      "warning\n",
      "[u'22-May-2017']\n",
      "[[0.06058796]]\n",
      "[[26]]\n",
      "0.0094734375\n"
     ]
    }
   ],
   "source": [
    "for i in range(len(price['date'])):\n",
    "    temp = data_call_save_all.loc[data_call_save_all['Date'] == price['date'][i]]\n",
    "    temp = temp.loc[temp['left'] > 3]\n",
    "    temp = temp.loc[temp['left'] == temp['left'].values.min()[0][0]]\n",
    "    temp = temp.reset_index(drop = True)\n",
    "    id = temp['Diff'].abs().values.argmin()\n",
    "    min_diff = temp['Diff'][id]\n",
    "    min_vsi = temp['VSI'][id][0][0]\n",
    "    if min_vsi == 0:\n",
    "        print(price['date'][i])\n",
    "        first_VSI = float('nan')\n",
    "        second_VSI = float('nan')\n",
    "        continue\n",
    "    temp = temp.loc[temp['Diff'] > min_diff]\n",
    "    if len(temp) == 0:\n",
    "        first_VSI = float('nan')\n",
    "        second_VSI = float('nan')\n",
    "    elif len(temp) == 1:\n",
    "        temp = temp.reset_index(drop = True)\n",
    "        first_VSI = temp['VSI'][0][0][0] / min_vsi\n",
    "        second_VSI = float('nan')\n",
    "    else:\n",
    "        temp = temp.sort_values(by = 'Diff')\n",
    "        temp = temp.reset_index(drop = True)\n",
    "        first_VSI = temp['VSI'][0][0][0] / min_vsi\n",
    "        second_VSI = temp['VSI'][1][0][0] / min_vsi\n",
    "    if first_VSI > 4:\n",
    "        print(\"warning\")\n",
    "        print(temp['Date'][0])\n",
    "        print(temp['VSI'][0])\n",
    "        print(temp['left'][0])\n",
    "        print(min_vsi)\n",
    "        #continue\n",
    "    price.loc[i,'first_VSI'] = first_VSI\n",
    "    price.loc[i,'second_VSI'] = second_VSI"
   ]
  },
  {
   "cell_type": "code",
   "execution_count": 21,
   "metadata": {
    "scrolled": true
   },
   "outputs": [],
   "source": [
    "import numpy as np\n",
    "price = price.dropna()\n",
    "price.reset_index()\n",
    "MA = np.zeros([2, len(price)-39])\n",
    "for i in range(39, len(price)):\n",
    "    MA[0][i-39] = price['first_VSI'][i-39:i].mean()\n",
    "    MA[1][i-39] = price['second_VSI'][i-39:i].mean()\n",
    "#MA.shape\n",
    "#len(price) \n",
    "MS = np.zeros([2, len(price)-39])\n",
    "for i in range(39, len(price)):\n",
    "    MS[0][i-39] = price['first_VSI'][i-39:i].std()\n",
    "    MS[1][i-39] = price['second_VSI'][i-39:i].std()"
   ]
  },
  {
   "cell_type": "code",
   "execution_count": 22,
   "metadata": {},
   "outputs": [],
   "source": [
    "Upp_Bnd = MA + MS\n",
    "Low_Bnd = MA - MS"
   ]
  },
  {
   "cell_type": "code",
   "execution_count": 23,
   "metadata": {},
   "outputs": [
    {
     "data": {
      "image/png": "[encoded data removed]",
      "text/plain": [
       "<Figure size 432x288 with 1 Axes>"
      ]
     },
     "metadata": {},
     "output_type": "display_data"
    }
   ],
   "source": [
    "import matplotlib.pyplot as plt\n",
    "plt.plot(Upp_Bnd[0])\n",
    "plt.plot(Low_Bnd[0])\n",
    "plt.plot(price['first_VSI'].values[39:len(price['first_VSI'])])\n",
    "plt.show()"
   ]
  },
  {
   "cell_type": "code",
   "execution_count": null,
   "metadata": {},
   "outputs": [],
   "source": []
  }
 ],
 "metadata": {
  "kernelspec": {
   "display_name": "Python 2",
   "language": "python",
   "name": "python2"
  },
  "language_info": {
   "codemirror_mode": {
    "name": "ipython",
    "version": 2
   },
   "file_extension": ".py",
   "mimetype": "text/x-python",
   "name": "python",
   "nbconvert_exporter": "python",
   "pygments_lexer": "ipython2",
   "version": "2.7.15"
  }
 },
 "nbformat": 4,
 "nbformat_minor": 2
}
